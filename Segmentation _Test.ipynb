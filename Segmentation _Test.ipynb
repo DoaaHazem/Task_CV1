{
 "cells": [
  {
   "cell_type": "code",
   "execution_count": 1,
   "metadata": {},
   "outputs": [],
   "source": [
    "import os \n",
    "os.environ[\"KMP_DUPLICATE_LIB_OK\"] = \"TRUE\"\n",
    "import numpy as np\n",
    "import cv2\n",
    "from ultralytics import YOLO\n",
    "from ultralytics.utils.plotting import Annotator"
   ]
  },
  {
   "cell_type": "code",
   "execution_count": 2,
   "metadata": {},
   "outputs": [],
   "source": [
    "model=YOLO(r'C:\\Users\\DELL\\Downloads\\best_yolo11s_seg.pt')"
   ]
  },
  {
   "cell_type": "code",
   "execution_count": 3,
   "metadata": {},
   "outputs": [],
   "source": [
    "img_path=r\"C:\\Users\\DELL\\Downloads\\00000013_jpg.rf.ccf1e41c11a479b269546f23925886b3.jpg\""
   ]
  },
  {
   "cell_type": "code",
   "execution_count": 4,
   "metadata": {},
   "outputs": [],
   "source": [
    "img=cv2.imread(img_path)"
   ]
  },
  {
   "cell_type": "code",
   "execution_count": 5,
   "metadata": {},
   "outputs": [
    {
     "name": "stdout",
     "output_type": "stream",
     "text": [
      "\n",
      "0: 640x640 3 breads, 2 lettuces, 2 peppers, 1 steak, 2 tomatos, 538.9ms\n",
      "Speed: 26.0ms preprocess, 538.9ms inference, 46.4ms postprocess per image at shape (1, 3, 640, 640)\n"
     ]
    }
   ],
   "source": [
    "if img is None:\n",
    "    print(\"Image is not exist\")\n",
    "else :\n",
    "    annotator=Annotator(img,line_width=2)\n",
    "    result=model(img)\n",
    "    if result[0].masks is not None:\n",
    "        masks=result[0].masks.xy\n",
    "        for mask in masks:\n",
    "            cv2.polylines(img,[np.int32([mask])],isClosed=True,color=(0,255,0),thickness=2)\n",
    "\n",
    "    cv2.imshow(\"Img_Segmentation\",img)\n",
    "    cv2.waitKey(0)\n",
    "    cv2.destroyAllWindows()        "
   ]
  }
 ],
 "metadata": {
  "kernelspec": {
   "display_name": "base",
   "language": "python",
   "name": "python3"
  },
  "language_info": {
   "codemirror_mode": {
    "name": "ipython",
    "version": 3
   },
   "file_extension": ".py",
   "mimetype": "text/x-python",
   "name": "python",
   "nbconvert_exporter": "python",
   "pygments_lexer": "ipython3",
   "version": "3.11.7"
  }
 },
 "nbformat": 4,
 "nbformat_minor": 2
}
